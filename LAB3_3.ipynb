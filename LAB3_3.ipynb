{
  "nbformat": 4,
  "nbformat_minor": 0,
  "metadata": {
    "colab": {
      "provenance": [],
      "authorship_tag": "ABX9TyPhTGExDoOGLP6VS6a0IcZ/",
      "include_colab_link": true
    },
    "kernelspec": {
      "name": "python3",
      "display_name": "Python 3"
    },
    "language_info": {
      "name": "python"
    }
  },
  "cells": [
    {
      "cell_type": "markdown",
      "metadata": {
        "id": "view-in-github",
        "colab_type": "text"
      },
      "source": [
        "<a href=\"https://colab.research.google.com/github/patilekhanand/AIAC/blob/main/LAB3_3.ipynb\" target=\"_parent\"><img src=\"https://colab.research.google.com/assets/colab-badge.svg\" alt=\"Open In Colab\"/></a>"
      ]
    },
    {
      "cell_type": "code",
      "execution_count": null,
      "metadata": {
        "id": "4OkZzH8YKqgt"
      },
      "outputs": [],
      "source": []
    },
    {
      "cell_type": "markdown",
      "source": [
        " TASK:1Try 3 different prompts to generate a factorial function|"
      ],
      "metadata": {
        "id": "oYR6g8kFQt_j"
      }
    },
    {
      "cell_type": "code",
      "source": [],
      "metadata": {
        "id": "i8LQKtpdQ8Zm"
      },
      "execution_count": null,
      "outputs": []
    },
    {
      "cell_type": "markdown",
      "metadata": {
        "id": "07eb7e04"
      },
      "source": [
        "Prompt 1: Write a Python function that calculates the factorial of a non-negative integer.\n",
        "Prompt 2: Create a function in Python to compute the factorial of a number using recursion.\n",
        "Prompt 3: Implement a Python function to find the factorial of n, where n is a non-negative integer."
      ]
    },
    {
      "cell_type": "code",
      "metadata": {
        "id": "edcc851a"
      },
      "source": [
        "def factorial(n):\n",
        "  \"\"\"Calculates the factorial of a non-negative integer.\n",
        "\n",
        "  Args:\n",
        "    n: A non-negative integer.\n",
        "\n",
        "  Returns:\n",
        "    The factorial of n.\n",
        "  \"\"\"\n",
        "  if n < 0:\n",
        "    raise ValueError(\"Factorial is not defined for negative numbers\")\n",
        "  elif n == 0:\n",
        "    return 1\n",
        "  else:\n",
        "    result = 1\n",
        "    for i in range(1, n + 1):\n",
        "      result *= i\n",
        "    return result\n",
        "\n",
        "# Example usage:\n",
        "print(factorial(5))"
      ],
      "execution_count": null,
      "outputs": []
    },
    {
      "cell_type": "code",
      "metadata": {
        "id": "90c088b2"
      },
      "source": [
        "def factorial_recursive(n):\n",
        "  \"\"\"Computes the factorial of a non-negative integer using recursion.\n",
        "\n",
        "  Args:\n",
        "    n: A non-negative integer.\n",
        "\n",
        "  Returns:\n",
        "    The factorial of n.\n",
        "  \"\"\"\n",
        "  if n < 0:\n",
        "    raise ValueError(\"Factorial is not defined for negative numbers\")\n",
        "  elif n == 0:\n",
        "    return 1\n",
        "  else:\n",
        "    return n * factorial_recursive(n-1)\n",
        "\n",
        "# Example usage:\n",
        "print(factorial_recursive(5))"
      ],
      "execution_count": null,
      "outputs": []
    },
    {
      "cell_type": "code",
      "metadata": {
        "id": "ad9acd78"
      },
      "source": [
        "def find_factorial(n):\n",
        "  \"\"\"Finds the factorial of a non-negative integer.\n",
        "\n",
        "  Args:\n",
        "    n: A non-negative integer.\n",
        "\n",
        "  Returns:\n",
        "    The factorial of n.\n",
        "  \"\"\"\n",
        "  if n < 0:\n",
        "    raise ValueError(\"Factorial is not defined for negative numbers\")\n",
        "  elif n == 0:\n",
        "    return 1\n",
        "  else:\n",
        "    factorial_result = 1\n",
        "    for i in range(1, n + 1):\n",
        "      factorial_result *= i\n",
        "    return factorial_result\n",
        "\n",
        "# Example usage:\n",
        "print(find_factorial(5))"
      ],
      "execution_count": null,
      "outputs": []
    },
    {
      "cell_type": "markdown",
      "source": [
        "This code defines a Python function called find_factorial that calculates the factorial of a non-negative integer n.\n",
        "\n",
        "Here's a breakdown of the code:\n",
        "\n",
        "Function Definition:\n",
        "def find_factorial(n):\n",
        "  \"\"\"Finds the factorial of a non-negative integer.\n",
        "\n",
        "  Args:\n",
        "    n: A non-negative integer.\n",
        "\n",
        "  Returns:\n",
        "    The factorial of n.\n",
        "  \"\"\"\n",
        "This defines the function find_factorial that takes one argument, n. The docstring within triple quotes explains what the function does, its arguments, and what it returns.\n",
        "\n",
        "Handling Negative Input:\n",
        "if n < 0:\n",
        "  raise ValueError(\"Factorial is not defined for negative numbers\")\n",
        "This checks if the input n is a negative number. The factorial is not defined for negative numbers, so if n is negative, it raises a ValueError with an informative message.\n",
        "\n",
        "Base Case for Factorial:\n",
        "elif n == 0:\n",
        "  return 1\n",
        "This handles the base case for the factorial calculation. The factorial of 0 is defined as 1.\n",
        "\n",
        "Iterative Calculation:\n",
        "else:\n",
        "  factorial_result = 1\n",
        "  for i in range(1, n + 1):\n",
        "    factorial_result *= i\n",
        "  return factorial_result\n",
        "If n is a non-negative integer greater than 0, this block calculates the factorial iteratively.\n",
        "\n",
        "factorial_result = 1: Initializes a variable factorial_result to 1. This will store the calculated factorial.\n",
        "for i in range(1, n + 1):: This loop iterates from 1 up to and including n.\n",
        "factorial_result *= i: In each iteration, the current value of factorial_result is multiplied by the loop variable i. This performs the calculation 1 * 2 * 3 * ... * n.\n",
        "return factorial_result: After the loop finishes, the final calculated factorial is returned.\n",
        "Example Usage:\n",
        "# Example usage:\n",
        "print(find_factorial(5))\n",
        "This part shows how to call the find_factorial function with the input 5 and prints the returned result (which is 120, the factorial of 5).\n",
        "\n"
      ],
      "metadata": {
        "id": "RzNhQBMDRvzO"
      }
    },
    {
      "cell_type": "markdown",
      "source": [
        "TASK2:Provide a clear example input-output prompt to generate a sorting function"
      ],
      "metadata": {
        "id": "BfYqlPAbR_il"
      }
    },
    {
      "cell_type": "markdown",
      "metadata": {
        "id": "1c277d83"
      },
      "source": [
        "Prompt: Given an input list `[3, 1, 4, 1, 5, 9, 2, 6]` generate a Python function that sorts the list in ascending order and outputs `[1, 1, 2, 3, 4, 5, 6, 9]`."
      ]
    },
    {
      "cell_type": "code",
      "metadata": {
        "id": "7c70b67a"
      },
      "source": [
        "def sort_list_ascending(input_list):\n",
        "  \"\"\"Sorts a list in ascending order.\n",
        "\n",
        "  Args:\n",
        "    input_list: The list to be sorted.\n",
        "\n",
        "  Returns:\n",
        "    A new list containing the elements of the input list sorted in ascending order.\n",
        "  \"\"\"\n",
        "  return sorted(input_list)\n",
        "\n",
        "# Example usage:\n",
        "input_list = [3, 1, 4, 1, 5, 9, 2, 6]\n",
        "output_list = sort_list_ascending(input_list)\n",
        "print(output_list)"
      ],
      "execution_count": null,
      "outputs": []
    },
    {
      "cell_type": "markdown",
      "source": [
        "This code defines a Python function called sort_list_ascending that takes a list as input and returns a new list with the elements sorted in ascending order.\n",
        "\n",
        "Here's a breakdown of the code:\n",
        "\n",
        "Function Definition:\n",
        "def sort_list_ascending(input_list):\n",
        "  \"\"\"Sorts a list in ascending order.\n",
        "\n",
        "  Args:\n",
        "    input_list: The list to be sorted.\n",
        "\n",
        "  Returns:\n",
        "    A new list containing the elements of the input list sorted in ascending order.\n",
        "  \"\"\"\n",
        "This defines the function sort_list_ascending which accepts one argument, input_list. The docstring explains the function's purpose, arguments, and return value.\n",
        "\n",
        "Sorting the List:\n",
        "return sorted(input_list)\n",
        "This is the core of the function. It uses the built-in Python function sorted() which takes an iterable (like a list) as input and returns a new list containing all items from the iterable in ascending order. The original input_list is not modified.\n",
        "\n",
        "Example Usage:\n",
        "# Example usage:\n",
        "input_list = [3, 1, 4, 1, 5, 9, 2, 6]\n",
        "output_list = sort_list_ascending(input_list)\n",
        "print(output_list)\n",
        "This part demonstrates how to use the function.\n",
        "\n",
        "An example list [3, 1, 4, 1, 5, 9, 2, 6] is created and assigned to input_list.\n",
        "The sort_list_ascending function is called with input_list, and the returned sorted list is stored in output_list.\n",
        "Finally, the output_list is printed, which will show [1, 1, 2, 3, 4, 5, 6, 9"
      ],
      "metadata": {
        "id": "XxnmC8HVTFJq"
      }
    },
    {
      "cell_type": "markdown",
      "source": [
        " TASK3:Start with the vague prompt “Generate python code to calculate power bill” and\n",
        "improve it step-by-ste"
      ],
      "metadata": {
        "id": "juDhHSizTOKl"
      }
    },
    {
      "cell_type": "markdown",
      "source": [
        "Start with the vague prompt “Generate python code to calculate power bill” and\n",
        "improve it step-by-step"
      ],
      "metadata": {
        "id": "nlnSdGMPTXio"
      }
    },
    {
      "cell_type": "code",
      "source": [],
      "metadata": {
        "id": "AJ_3-e8DTYt3"
      },
      "execution_count": null,
      "outputs": []
    },
    {
      "cell_type": "markdown",
      "metadata": {
        "id": "2d7f3052"
      },
      "source": [
        "Start with the vague prompt “Generate python code to calculate power bill” and improve it step-by-step.\n",
        "\n",
        "**Step 1: Initial vague prompt**\n",
        "Generate python code to calculate power bill\n",
        "\n",
        "**Step 2: Identify missing information**\n",
        "The initial prompt is too vague. To calculate a power bill, we need more information. What factors influence the power bill?\n",
        "- Electricity consumption (kWh)\n",
        "- Price per kWh\n",
        "- Any fixed charges or taxes\n",
        "- Time period (e.g., monthly, daily)\n",
        "- Tiered pricing (if applicable)\n",
        "\n",
        "**Step 3: Refine the prompt based on missing information**\n",
        "Let's refine the prompt to include some of this information.\n",
        "\n",
        "**Refined Prompt 1:** Generate python code to calculate a monthly power bill given the total electricity consumption in kWh and the price per kWh.\n",
        "\n",
        "**Step 4: Further refinement with more details**\n",
        "We can make the prompt even more specific by including details about fixed charges or taxes.\n",
        "\n",
        "**Refined Prompt 2:** Generate python code to calculate a monthly power bill given the total electricity consumption in kWh, the price per kWh, and a fixed monthly service fee.\n",
        "\n",
        "**Step 5: Consider more complex scenarios**\n",
        "What about tiered pricing, where the price per kWh changes based on consumption?\n",
        "\n",
        "**Refined Prompt 3:** Generate python code to calculate a monthly power bill based on tiered pricing. Assume the first 100 kWh are charged at rate A, and consumption above 100 kWh is charged at rate B. Include a fixed monthly service fee.\n",
        "\n",
        "By breaking down the problem and identifying the necessary information, we can improve a vague prompt step-by-step to generate more accurate and useful code."
      ]
    },
    {
      "cell_type": "code",
      "metadata": {
        "id": "cae22059"
      },
      "source": [
        "def calculate_power_bill(consumption_kwh, price_per_kwh):\n",
        "  \"\"\"Calculates a simple power bill based on consumption and price per kWh.\n",
        "\n",
        "  Args:\n",
        "    consumption_kwh: Total electricity consumption in kWh.\n",
        "    price_per_kwh: The price per kWh.\n",
        "\n",
        "  Returns:\n",
        "    The calculated power bill amount.\n",
        "  \"\"\"\n",
        "  if consumption_kwh < 0 or price_per_kwh < 0:\n",
        "    raise ValueError(\"Consumption and price per kWh cannot be negative.\")\n",
        "  return consumption_kwh * price_per_kwh\n",
        "\n",
        "# Example usage:\n",
        "consumption = 250  # kWh\n",
        "price = 0.12     # price per kWh\n",
        "bill_amount = calculate_power_bill(consumption, price)\n",
        "print(f\"The power bill for {consumption} kWh at ${price}/kWh is: ${bill_amount:.2f}\")"
      ],
      "execution_count": null,
      "outputs": []
    },
    {
      "cell_type": "markdown",
      "source": [
        "This code defines a Python function calculate_power_bill that computes a simple power bill based on electricity consumption and the price per kilowatt-hour (kWh).\n",
        "\n",
        "Here's a breakdown:\n",
        "\n",
        "Function Definition:\n",
        "def calculate_power_bill(consumption_kwh, price_per_kwh):\n",
        "  \"\"\"Calculates a simple power bill based on consumption and price per kWh.\n",
        "\n",
        "  Args:\n",
        "    consumption_kwh: Total electricity consumption in kWh.\n",
        "    price_per_kwh: The price per kWh.\n",
        "\n",
        "  Returns:\n",
        "    The calculated power bill amount.\n",
        "  \"\"\"\n",
        "This defines the function calculate_power_bill which takes two arguments: consumption_kwh (the total electricity used) and price_per_kwh (the cost per unit of electricity). The docstring explains the function's purpose, arguments, and return value.\n",
        "\n",
        "Input Validation:\n",
        "if consumption_kwh < 0 or price_per_kwh < 0:\n",
        "  raise ValueError(\"Consumption and price per kWh cannot be negative.\")\n",
        "This checks if either the consumption or the price is negative. Since these values cannot be negative in a real-world scenario, a ValueError is raised to indicate invalid input.\n",
        "\n",
        "Bill Calculation:\n",
        "return consumption_kwh * price_per_kwh\n",
        "If the inputs are valid, the function calculates the total bill by multiplying the total consumption by the price per kWh and returns the result.\n",
        "\n",
        "Example Usage:\n",
        "# Example usage:\n",
        "consumption = 250  # kWh\n",
        "price = 0.12     # price per kWh\n",
        "bill_amount = calculate_power_bill(consumption, price)\n",
        "print(f\"The power bill for {consumption} kWh at ${price}/kWh is: ${bill_amount:.2f}\")\n",
        "This part shows how to use the function with example values. It sets consumption to 250 kWh and price to $0.12/kWh, calls the function, and then prints the calculated bill amount formatted to two decimal places.\n"
      ],
      "metadata": {
        "id": "pZlKwD4_UDkX"
      }
    },
    {
      "cell_type": "markdown",
      "source": [
        "TASK4:Write structured comments to help AI generate two linked functions (e.g., login_user()\n",
        "and register_user())"
      ],
      "metadata": {
        "id": "kAV6I7pNUrge"
      }
    },
    {
      "cell_type": "markdown",
      "metadata": {
        "id": "e53ca17a"
      },
      "source": [
        "Write structured comments to help AI generate two linked Python functions:\n",
        "\n",
        "1.  **`register_user(username, password)` function:**\n",
        "    *   **Purpose:** To create a new user account.\n",
        "    *   **Args:**\n",
        "        *   `username` (str): A unique identifier for the user.\n",
        "        *   `password` (str): The user's chosen password.\n",
        "    *   **Behavior:**\n",
        "        *   Check if the `username` already exists in a simulated user database (e.g., a dictionary). If it does, indicate that registration failed because the username is taken.\n",
        "        *   If the `username` is unique, store the `username` and a *hashed* version of the `password` in the simulated database.\n",
        "        *   Indicate that registration was successful.\n",
        "    *   **Returns:** A string message indicating the outcome of the registration attempt (e.g., \"Registration successful!\" or \"Username already exists.\").\n",
        "\n",
        "2.  **`login_user(username, password)` function:**\n",
        "    *   **Purpose:** To authenticate a user.\n",
        "    *   **Args:**\n",
        "        *   `username` (str): The username provided by the user attempting to log in.\n",
        "        *   `password` (str): The password provided by the user attempting to log in.\n",
        "    *   **Behavior:**\n",
        "        *   Check if the `username` exists in the simulated user database. If not, indicate that login failed due to an invalid username.\n",
        "        *   If the `username` exists, retrieve the stored hashed password from the database.\n",
        "        *   Compare the provided `password` (after hashing it using the same method used during registration) with the stored hashed password.\n",
        "        *   If the hashed passwords match, indicate that login was successful.\n",
        "        *   If the hashed passwords do not match, indicate that login failed due to an incorrect password.\n",
        "    *   **Returns:** A string message indicating the outcome of the login attempt (e.g., \"Login successful!\" or \"Invalid username or password.\").\n",
        "\n",
        "**Linked aspect:** The `login_user` function must use the same simulated user database that `register_user` uses to store and retrieve user credentials. You will need a way to store this data persistently between function calls (e.g., a global dictionary for simulation purposes). Also, ensure a basic password hashing mechanism is used (e.g., using `hashlib`)."
      ]
    },
    {
      "cell_type": "code",
      "metadata": {
        "id": "84149151"
      },
      "source": [
        "import hashlib\n",
        "\n",
        "# Simulated user database (global dictionary for demonstration)\n",
        "# In a real application, this would be a more robust database\n",
        "user_database = {}\n",
        "\n",
        "def hash_password(password):\n",
        "  \"\"\"Hashes a password using SHA-256.\"\"\"\n",
        "  return hashlib.sha256(password.encode()).hexdigest()\n",
        "\n",
        "def register_user(username, password):\n",
        "  \"\"\"\n",
        "  Registers a new user account.\n",
        "\n",
        "  Args:\n",
        "    username (str): A unique identifier for the user.\n",
        "    password (str): The user's chosen password.\n",
        "\n",
        "  Returns:\n",
        "    A string message indicating the outcome of the registration attempt.\n",
        "  \"\"\"\n",
        "  if username in user_database:\n",
        "    return \"Username already exists.\"\n",
        "  else:\n",
        "    hashed_password = hash_password(password)\n",
        "    user_database[username] = hashed_password\n",
        "    return \"Registration successful!\"\n",
        "\n",
        "def login_user(username, password):\n",
        "  \"\"\"\n",
        "  Authenticates a user.\n",
        "\n",
        "  Args:\n",
        "    username (str): The username provided by the user attempting to log in.\n",
        "    password (str): The password provided by the user attempting to log in.\n",
        "\n",
        "  Returns:\n",
        "    A string message indicating the outcome of the login attempt.\n",
        "  \"\"\"\n",
        "  if username not in user_database:\n",
        "    return \"Invalid username or password.\"\n",
        "  else:\n",
        "    stored_hashed_password = user_database[username]\n",
        "    provided_hashed_password = hash_password(password)\n",
        "    if provided_hashed_password == stored_hashed_password:\n",
        "      return \"Login successful!\"\n",
        "    else:\n",
        "      return \"Invalid username or password.\"\n",
        "\n",
        "# Example Usage:\n",
        "print(register_user(\"testuser\", \"password123\"))\n",
        "print(register_user(\"testuser\", \"anotherpassword\")) # Try registering with the same username\n",
        "print(login_user(\"testuser\", \"password123\"))\n",
        "print(login_user(\"testuser\", \"wrongpassword\"))\n",
        "print(login_user(\"nonexistentuser\", \"anypassword\"))"
      ],
      "execution_count": null,
      "outputs": []
    },
    {
      "cell_type": "markdown",
      "source": [
        "I have already provided a detailed explanation of this code in my previous response.\n",
        "\n",
        "This code defines two linked Python functions, register_user and login_user, which simulate a basic user registration and login system using a dictionary as a temporary database and hashlib for password hashing.\n",
        "\n",
        "Would you like me to explain any specific part of the code again, or would you like to explore further steps, such as improving this simulation with a more persistent storage method or adding more features?\n",
        "\n"
      ],
      "metadata": {
        "id": "Vc7B-VnjVO_x"
      }
    },
    {
      "cell_type": "code",
      "source": [],
      "metadata": {
        "id": "Ovb1b7sxVQAb"
      },
      "execution_count": null,
      "outputs": []
    },
    {
      "cell_type": "markdown",
      "source": [
        "TASK5:Analyzing Prompt Specificity: Improving Temperature Conversion Function with\n",
        "Clear Instructions"
      ],
      "metadata": {
        "id": "TRGa0SdPVYA8"
      }
    },
    {
      "cell_type": "code",
      "source": [],
      "metadata": {
        "id": "cYk6Q6LxVfSs"
      },
      "execution_count": null,
      "outputs": []
    },
    {
      "cell_type": "markdown",
      "metadata": {
        "id": "ae0f6180"
      },
      "source": [
        "Analyzing Prompt Specificity: Improving Temperature Conversion Function with Clear Instructions\n",
        "\n",
        "Let's explore how prompt specificity affects code generation by starting with a vague prompt for a temperature conversion function and progressively adding more detail.\n",
        "\n",
        "**Step 1: Initial vague prompt**\n",
        "Generate python code for a temperature conversion function.\n",
        "\n",
        "**Step 2: Identify missing information**\n",
        "The initial prompt is very vague. To generate a useful temperature conversion function, we need to know:\n",
        "- What units should the function handle (e.g., Celsius, Fahrenheit, Kelvin)?\n",
        "- Which conversion(s) are needed (e.g., Celsius to Fahrenheit, Fahrenheit to Celsius, Celsius to Kelvin, etc.)?\n",
        "- What should the function's input and output be?\n",
        "- How should invalid inputs be handled?\n",
        "\n",
        "**Step 3: Refine the prompt based on missing information**\n",
        "Let's refine the prompt to specify the units and the direction of conversion.\n",
        "\n",
        "**Refined Prompt 1:** Generate a Python function that converts temperature from Celsius to Fahrenheit.\n",
        "\n",
        "**Step 4: Add details about input/output and error handling**\n",
        "We can make the prompt even more specific by describing the function signature and how to handle potential errors.\n",
        "\n",
        "**Refined Prompt 2:** Write a Python function called `celsius_to_fahrenheit` that takes a single argument, `celsius` (a number), and returns the temperature in Fahrenheit using the formula `(celsius * 9/5) + 32`. If the input is not a number, raise a `TypeError`.\n",
        "\n",
        "By adding specific details about the requirements, we can significantly improve the quality and relevance of the generated code."
      ]
    },
    {
      "cell_type": "code",
      "metadata": {
        "id": "3f9462e1"
      },
      "source": [
        "def celsius_to_fahrenheit(celsius):\n",
        "  \"\"\"Converts temperature from Celsius to Fahrenheit.\n",
        "\n",
        "  Args:\n",
        "    celsius: The temperature in Celsius (a number).\n",
        "\n",
        "  Returns:\n",
        "    The temperature in Fahrenheit.\n",
        "\n",
        "  Raises:\n",
        "    TypeError: If the input is not a number.\n",
        "  \"\"\"\n",
        "  if not isinstance(celsius, (int, float)):\n",
        "    raise TypeError(\"Input must be a number.\")\n",
        "  return (celsius * 9/5) + 32\n",
        "\n",
        "# Example usage:\n",
        "celsius_temp = 25\n",
        "fahrenheit_temp = celsius_to_fahrenheit(celsius_temp)\n",
        "print(f\"{celsius_temp} Celsius is equal to {fahrenheit_temp} Fahrenheit.\")\n",
        "\n",
        "# Example with invalid input:\n",
        "try:\n",
        "  celsius_to_fahrenheit(\"abc\")\n",
        "except TypeError as e:\n",
        "  print(f\"Error: {e}\")"
      ],
      "execution_count": null,
      "outputs": []
    },
    {
      "cell_type": "markdown",
      "source": [
        "This code defines a Python function celsius_to_fahrenheit that converts a temperature from Celsius to Fahrenheit, as specified in the refined prompt.\n",
        "\n",
        "Here's a breakdown:\n",
        "\n",
        "Function Definition:\n",
        "def celsius_to_fahrenheit(celsius):\n",
        "  \"\"\"Converts temperature from Celsius to Fahrenheit.\n",
        "  ... (docstring as you provided)\n",
        "  \"\"\"\n",
        "This defines the function celsius_to_fahrenheit that takes one argument, celsius. The docstring explains its purpose, arguments, return value, and potential exceptions.\n",
        "\n",
        "Input Validation:\n",
        "if not isinstance(celsius, (int, float)):\n",
        "  raise TypeError(\"Input must be a number.\")\n",
        "This part checks if the input celsius is not an integer or a float using isinstance(). If it's not a number, it raises a TypeError with the message \"Input must be a number.\", fulfilling the error handling requirement in the refined prompt.\n",
        "\n",
        "Temperature Conversion:\n",
        "return (celsius * 9/5) + 32\n",
        "If the input is a valid number, this line performs the conversion using the standard formula for converting Celsius to Fahrenheit: multiply by 9/5 and add 32. The result is then returned.\n",
        "\n",
        "Example Usage:\n",
        "# Example usage:\n",
        "celsius_temp = 25\n",
        "fahrenheit_temp = celsius_to_fahrenheit(celsius_temp)\n",
        "print(f\"{celsius_temp} Celsius is equal to {fahrenheit_temp} Fahrenheit.\")\n",
        "\n",
        "# Example with invalid input:\n",
        "try:\n",
        "  celsius_to_fahrenheit(\"abc\")\n",
        "except TypeError as e:\n",
        "  print(f\"Error: {e}\")\n",
        "This section demonstrates how to use the function:\n",
        "\n",
        "It calls the function with a valid numerical input (25) and prints the result.\n",
        "It includes a try...except block to show how the TypeError is handled when an invalid input (the string \"abc\") is passed to the function."
      ],
      "metadata": {
        "id": "msC0uy9-V_CU"
      }
    },
    {
      "cell_type": "code",
      "source": [],
      "metadata": {
        "id": "FPmwhKaiWAFf"
      },
      "execution_count": null,
      "outputs": []
    }
  ]
}